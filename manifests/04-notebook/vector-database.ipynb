{
 "cells": [
  {
   "cell_type": "raw",
   "id": "fcd145fa-10d4-4597-9250-1c61984fc5bb",
   "metadata": {},
   "source": [
    "# Copyright 2024 Google LLC\n",
    "#\n",
    "# Licensed under the Apache License, Version 2.0 (the \"License\");\n",
    "# you may not use this file except in compliance with the License.\n",
    "# You may obtain a copy of the License at\n",
    "#\n",
    "#     https://www.apache.org/licenses/LICENSE-2.0\n",
    "#\n",
    "# Unless required by applicable law or agreed to in writing, software\n",
    "# distributed under the License is distributed on an \"AS IS\" BASIS,\n",
    "# WITHOUT WARRANTIES OR CONDITIONS OF ANY KIND, either express or implied.\n",
    "# See the License for the specific language governing permissions and\n",
    "# limitations under the License."
   ]
  },
  {
   "cell_type": "raw",
   "id": "201cd5fa-25e0-4bd7-8a27-af1fc85a12e7",
   "metadata": {},
   "source": [
    "This section shows you how to upload Vectors into a new Qdrant Collection and run simple search queries using the official Qdrant client.\n",
    "\n",
    "In this example, you use a dataset from a CSV file that contains a list of books in different genres. Qdrant will serve as a search engine."
   ]
  },
  {
   "cell_type": "raw",
   "id": "51247bbb-a52f-4003-9596-439f60f3b3c9",
   "metadata": {},
   "source": [
    "Install a Qdrant client with fastembed support to eliminate reliance on external model deployment services:"
   ]
  },
  {
   "cell_type": "code",
   "execution_count": 28,
   "id": "1c3b796a-3b3a-4322-a276-d72c1dc8540e",
   "metadata": {},
   "source": [
    "! pip install qdrant-client[fastembed]"
   ]
  },
  {
   "cell_type": "raw",
   "id": "320f0cb6-61c9-42fe-b361-ea3c92c35421",
   "metadata": {},
   "source": [
    "Import the required Python and Qdrant libraries:"
   ]
  },
  {
   "cell_type": "code",
   "execution_count": 29,
   "id": "bb5ca67b-607d-4b23-926a-6459ea584f45",
   "metadata": {},
   "outputs": [],
   "source": [
    "from qdrant_client import QdrantClient\n",
    "from qdrant_client.http import models\n",
    "import os\n",
    "import csv"
   ]
  },
  {
   "cell_type": "raw",
   "id": "15f64563-f932-4a38-bd96-5b9d5cfadfd3",
   "metadata": {},
   "source": [
    "Load data from a CSV file for inserting data into a Qdrant collection:"
   ]
  },
  {
   "cell_type": "code",
   "execution_count": 30,
   "id": "013284ff-e4b6-4ad7-b330-17860121c4c1",
   "metadata": {},
   "outputs": [],
   "source": [
    "books = [*csv.DictReader(open('/usr/local/dataset/dataset.csv'))]"
   ]
  },
  {
   "cell_type": "raw",
   "id": "f6f00b67-901e-4470-ab26-94c3b0e010d8",
   "metadata": {},
   "source": [
    "Prepare data for uploading:"
   ]
  },
  {
   "cell_type": "code",
   "execution_count": 31,
   "id": "75f71220-349b-41f0-89ea-1ba7a1c52771",
   "metadata": {},
   "outputs": [],
   "source": [
    "documents: list[dict[str, any]] = []\n",
    "metadata: list[dict[str, any]] = []\n",
    "ids: list[int] = []\n",
    "\n",
    "for idx, doc in enumerate(books):\n",
    "    ids.append(idx)\n",
    "    documents.append(doc[\"description\"])\n",
    "    metadata.append(\n",
    "        {\n",
    "            \"title\": doc[\"title\"],\n",
    "            \"author\": doc[\"author\"],\n",
    "            \"publishDate\": doc[\"publishDate\"],\n",
    "        }\n",
    "    )"
   ]
  },
  {
   "cell_type": "raw",
   "id": "df7eb305-6f3e-4215-8090-71d044a302aa",
   "metadata": {},
   "source": [
    "Define a Qdrant connection, it requires an API Key for authentication:"
   ]
  },
  {
   "cell_type": "code",
   "execution_count": 32,
   "id": "b08ebd75-0b8c-4805-a40f-634d2d5df3de",
   "metadata": {},
   "outputs": [],
   "source": [
    "qdrant = QdrantClient(\n",
    "    url=\"http://qdrant-database:6333\", api_key=os.getenv(\"APIKEY\"))"
   ]
  },
  {
   "cell_type": "markdown",
   "id": "b048a1bb-31e3-40f3-8ae1-6c0c9a49fa70",
   "metadata": {},
   "source": [
    "Create a Qdrant collection and insert data. This method establishes a connection to Qdrant, creates a new collection named `my_books`, and uploads the book data to `my_books`."
   ]
  },
  {
   "cell_type": "code",
   "execution_count": 33,
   "id": "637e4922-d58c-4eb3-91c2-03252422c662",
   "metadata": {},
   "source": [
    "qdrant.add(collection_name=\"my_books\", documents=documents, metadata=metadata, ids=ids, parallel=2)"
   ]
  },
  {
   "cell_type": "markdown",
   "id": "9d0ca596-9688-4df3-a8cc-dc384c1e5234",
   "metadata": {},
   "source": [
    "Query the Qdrant database. This method runs a search query about `drama about people and unhappy love` and displays results.\n",
    "\n",
    "It prints each result separated by a line of dashes, in the following format :\n",
    "\n",
    "- Title: Title of the book\n",
    "- Author: Author of the book\n",
    "- Description: As stored in your document's description metadata field\n",
    "- Published: Book publication date\n",
    "- Score: Qdrant's relevancy score"
   ]
  },
  {
   "cell_type": "code",
   "execution_count": 34,
   "id": "7d1cae5f-ffa3-44ea-8b9e-fd376cdc185c",
   "metadata": {},
   "source": [
    "results = qdrant.query(\n",
    "    collection_name=\"my_books\",\n",
    "    query_text=\"drama about people and unhappy love\",\n",
    "    limit=2,\n",
    ")\n",
    "for result in results:\n",
    "    print(\"Title:\", result.metadata[\"title\"], \"\\nAuthor:\", result.metadata[\"author\"])\n",
    "    print(\"Description:\", result.metadata[\"document\"], \"Published:\", result.metadata[\"publishDate\"], \"\\nScore:\", result.score)\n",
    "    print(\"-----\")"
   ]
  }],
 "metadata": {
  "kernelspec": {
   "display_name": "Python 3 (ipykernel)",
   "language": "python",
   "name": "python3"
  },
  "language_info": {
   "codemirror_mode": {
    "name": "ipython",
    "version": 3
   },
   "file_extension": ".py",
   "mimetype": "text/x-python",
   "name": "python",
   "nbconvert_exporter": "python",
   "pygments_lexer": "ipython3",
   "version": "3.11.0rc1"
  }
 },
 "nbformat": 4,
 "nbformat_minor": 5
}

